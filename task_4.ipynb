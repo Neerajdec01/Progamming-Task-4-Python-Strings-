{
  "nbformat": 4,
  "nbformat_minor": 0,
  "metadata": {
    "colab": {
      "provenance": []
    },
    "kernelspec": {
      "name": "python3",
      "display_name": "Python 3"
    },
    "language_info": {
      "name": "python"
    }
  },
  "cells": [
    {
      "cell_type": "code",
      "execution_count": 1,
      "metadata": {
        "id": "7GmX8Xtq6j-J",
        "colab": {
          "base_uri": "https://localhost:8080/"
        },
        "outputId": "c9893d0a-b5a7-4153-b7f8-6a6a326cca72"
      },
      "outputs": [
        {
          "output_type": "stream",
          "name": "stdout",
          "text": [
            "this is a string\n",
            "this-is-a-string\n"
          ]
        }
      ],
      "source": [
        "# 1st problem\n",
        "\n",
        "def split_and_join(line):\n",
        "    line = line.split(\" \")\n",
        "    line = \"-\".join(line)\n",
        "    return line\n",
        "\n",
        "if __name__ == '__main__':\n",
        "    line = input()\n",
        "    result = split_and_join(line)\n",
        "    print(result)"
      ]
    },
    {
      "cell_type": "code",
      "source": [
        "# 2nd problem\n",
        "\n",
        "def print_full_name(first, last):\n",
        "    print(f'Hello {first} {last}! You just delved into python.')\n",
        "\n",
        "\n",
        "if __name__ == '__main__':\n",
        "    first_name = input()\n",
        "    last_name = input()\n",
        "    print_full_name(first_name, last_name)"
      ],
      "metadata": {
        "id": "YV2IsCpN6oO2",
        "colab": {
          "base_uri": "https://localhost:8080/"
        },
        "outputId": "cf0ace1c-7db7-4ca7-a85f-02bad1b5e880"
      },
      "execution_count": 3,
      "outputs": [
        {
          "output_type": "stream",
          "name": "stdout",
          "text": [
            "neeraj\n",
            "kaushal\n",
            "Hello neeraj kaushal! You just delved into python.\n"
          ]
        }
      ]
    },
    {
      "cell_type": "code",
      "source": [
        "# 3rd problem\n",
        "\n",
        "def mutate_string(string, position, character):\n",
        "    l, i = list(), 0\n",
        "    while i < len(string):\n",
        "      if (i == position):\n",
        "        l += [character]\n",
        "      else:\n",
        "        l += [string[i]]\n",
        "      i += 1\n",
        "    return ''.join(l)\n",
        "\n",
        "if __name__ == '__main__':\n",
        "    s = input()\n",
        "    i, c = input().split()\n",
        "    s_new = mutate_string(s, int(i), c)\n",
        "    print(s_new)"
      ],
      "metadata": {
        "id": "iCMGGNjm6obX",
        "colab": {
          "base_uri": "https://localhost:8080/"
        },
        "outputId": "ab610a70-97ec-4f22-ed9f-e32638fb273b"
      },
      "execution_count": 4,
      "outputs": [
        {
          "output_type": "stream",
          "name": "stdout",
          "text": [
            "abracadabra\n",
            "9 g\n",
            "abracadabga\n"
          ]
        }
      ]
    },
    {
      "cell_type": "code",
      "source": [
        "# 4th problem\n",
        "\n",
        "def count_substring(string, sub_string):\n",
        "    n = 0\n",
        "    for i in range(len(string)):\n",
        "        if string[i: i+len(sub_string)] == sub_string:\n",
        "            n+= 1\n",
        "    return n\n",
        "\n",
        "if __name__ == '__main__':\n",
        "    string = input().strip()\n",
        "    sub_string = input().strip()\n",
        "    \n",
        "    count = count_substring(string, sub_string)\n",
        "    print(count)"
      ],
      "metadata": {
        "id": "pDZwgMJb6on6",
        "colab": {
          "base_uri": "https://localhost:8080/"
        },
        "outputId": "56f13cec-2439-45d8-b0fd-aaabd488be87"
      },
      "execution_count": 1,
      "outputs": [
        {
          "output_type": "stream",
          "name": "stdout",
          "text": [
            "abcdcdc\n",
            "cdc\n",
            "2\n"
          ]
        }
      ]
    },
    {
      "cell_type": "code",
      "source": [
        "# 5th problem\n",
        "\n",
        "if __name__ == '__main__':\n",
        "    s = input()\n",
        "    print(any(a.isalnum() for a in s) )\n",
        "    print(any(a.isalpha() for a in s) )\n",
        "    print(any(a.isdigit() for a in s) )\n",
        "    print(any(a.islower() for a in s) )\n",
        "    print(any(a.isupper() for a in s) )"
      ],
      "metadata": {
        "id": "cvMAWqtj6o0S",
        "colab": {
          "base_uri": "https://localhost:8080/"
        },
        "outputId": "f2e29ea4-df3c-4cd8-e69d-692a4c27607d"
      },
      "execution_count": 2,
      "outputs": [
        {
          "output_type": "stream",
          "name": "stdout",
          "text": [
            "qa2\n",
            "True\n",
            "True\n",
            "True\n",
            "True\n",
            "False\n"
          ]
        }
      ]
    },
    {
      "cell_type": "code",
      "source": [
        "# 6th problem\n",
        "\n",
        "thickness = int(input()) #This must be an odd number\n",
        "c = 'H'\n",
        "\n",
        "#Top Cone\n",
        "for i in range(thickness):\n",
        "    print((c*i).rjust(thickness-1)+c+(c*i).ljust(thickness-1))\n",
        "\n",
        "#Top Pillars\n",
        "for i in range(thickness+1):\n",
        "    print((c*thickness).center(thickness*2)+(c*thickness).center(thickness*6))\n",
        "\n",
        "#Middle Belt\n",
        "for i in range((thickness+1)//2):\n",
        "    print((c*thickness*5).center(thickness*6))    \n",
        "\n",
        "#Bottom Pillars\n",
        "for i in range(thickness+1):\n",
        "    print((c*thickness).center(thickness*2)+(c*thickness).center(thickness*6))    \n",
        "\n",
        "#Bottom Cone\n",
        "for i in range(thickness):\n",
        "    print(((c*(thickness-i-1)).rjust(thickness)+c+(c*(thickness-i-1)).ljust(thickness)).rjust(thickness*6))"
      ],
      "metadata": {
        "id": "NkWAaxIj6pC8",
        "colab": {
          "base_uri": "https://localhost:8080/"
        },
        "outputId": "a71ea888-859c-4428-e169-8dcb82ac468e"
      },
      "execution_count": 3,
      "outputs": [
        {
          "output_type": "stream",
          "name": "stdout",
          "text": [
            "5\n",
            "    H    \n",
            "   HHH   \n",
            "  HHHHH  \n",
            " HHHHHHH \n",
            "HHHHHHHHH\n",
            "  HHHHH               HHHHH             \n",
            "  HHHHH               HHHHH             \n",
            "  HHHHH               HHHHH             \n",
            "  HHHHH               HHHHH             \n",
            "  HHHHH               HHHHH             \n",
            "  HHHHH               HHHHH             \n",
            "  HHHHHHHHHHHHHHHHHHHHHHHHH   \n",
            "  HHHHHHHHHHHHHHHHHHHHHHHHH   \n",
            "  HHHHHHHHHHHHHHHHHHHHHHHHH   \n",
            "  HHHHH               HHHHH             \n",
            "  HHHHH               HHHHH             \n",
            "  HHHHH               HHHHH             \n",
            "  HHHHH               HHHHH             \n",
            "  HHHHH               HHHHH             \n",
            "  HHHHH               HHHHH             \n",
            "                    HHHHHHHHH \n",
            "                     HHHHHHH  \n",
            "                      HHHHH   \n",
            "                       HHH    \n",
            "                        H     \n"
          ]
        }
      ]
    },
    {
      "cell_type": "code",
      "source": [
        "# 7th problem\n",
        "\n",
        "import textwrap\n",
        "\n",
        "def wrap(string, max_width):\n",
        "    return textwrap.fill(string, max_width)\n",
        "\n",
        "if __name__ == '__main__':\n",
        "    string, max_width = input(), int(input())\n",
        "    result = wrap(string, max_width)\n",
        "    print(result)"
      ],
      "metadata": {
        "id": "LD3p_I-E6pOk",
        "colab": {
          "base_uri": "https://localhost:8080/"
        },
        "outputId": "91478f73-1d5c-414a-e6d0-5312eaa1744b"
      },
      "execution_count": 4,
      "outputs": [
        {
          "output_type": "stream",
          "name": "stdout",
          "text": [
            "ABCDEFGHIJKLIMNOQRSTUVWXYZ\n",
            "4\n",
            "ABCD\n",
            "EFGH\n",
            "IJKL\n",
            "IMNO\n",
            "QRST\n",
            "UVWX\n",
            "YZ\n"
          ]
        }
      ]
    },
    {
      "cell_type": "code",
      "source": [
        "# 8th problem\n",
        "\n",
        "N, M = map(int, input().split())\n",
        "for i in range(1, N, 2):\n",
        "    print((i * \".|.\").center(M,\"-\"))\n",
        "print(\"WELCOME\".center(M, \"-\"))\n",
        "for i in range(N-2, -1, -2):\n",
        "    print((i * \".|.\").center(M, \"-\"))  \n"
      ],
      "metadata": {
        "id": "nGtWV1Te6paf",
        "colab": {
          "base_uri": "https://localhost:8080/"
        },
        "outputId": "b8c978d2-7a31-457d-cde8-3abd2be16abe"
      },
      "execution_count": 5,
      "outputs": [
        {
          "output_type": "stream",
          "name": "stdout",
          "text": [
            "7 21\n",
            "---------.|.---------\n",
            "------.|..|..|.------\n",
            "---.|..|..|..|..|.---\n",
            "-------WELCOME-------\n",
            "---.|..|..|..|..|.---\n",
            "------.|..|..|.------\n",
            "---------.|.---------\n"
          ]
        }
      ]
    },
    {
      "cell_type": "code",
      "source": [
        "# 9th problem\n",
        "\n",
        "def print_formatted(number):\n",
        "    nbin = format(number,'b')\n",
        "    size = len(nbin)\n",
        "    for i in range(1,n+1):\n",
        "        octa = format(i,'o')\n",
        "        hexa = format(i,'X')\n",
        "        bina = format(i,'b')\n",
        "        \n",
        "        print(str(i).rjust(size),str(octa).rjust(size),str(hexa).rjust(size),str(bina).rjust(size))\n",
        "\n",
        "\n",
        "\n",
        "if __name__ == '__main__':\n",
        "    n = int(input())\n",
        "    print_formatted(n)"
      ],
      "metadata": {
        "id": "_OsZInmX6pma",
        "colab": {
          "base_uri": "https://localhost:8080/"
        },
        "outputId": "df9d2452-e293-4fb6-fd4c-33b8a1aa85ae"
      },
      "execution_count": 6,
      "outputs": [
        {
          "output_type": "stream",
          "name": "stdout",
          "text": [
            "2\n",
            " 1  1  1  1\n",
            " 2  2  2 10\n"
          ]
        }
      ]
    },
    {
      "cell_type": "code",
      "source": [
        "# 10th problem\n",
        "\n",
        "def print_rangoli(size):\n",
        "    import string\n",
        "    design = string.ascii_lowercase\n",
        "    L = []\n",
        "    for i in range(n):\n",
        "        s = \"-\".join(design[i:n])\n",
        "        L.append((s[::-1]+s[1:]).center(4*n-3, \"-\"))\n",
        "        \n",
        "    print('\\n'.join(L[:0:-1]+L))\n",
        "\n",
        "if __name__ == '__main__':\n",
        "    n = int(input())\n",
        "    print_rangoli(n)\n",
        "    "
      ],
      "metadata": {
        "id": "__aFeCUg6py0",
        "colab": {
          "base_uri": "https://localhost:8080/"
        },
        "outputId": "46a9930a-4ef0-4ccd-8fb5-2ebe551cf0f8"
      },
      "execution_count": 9,
      "outputs": [
        {
          "output_type": "stream",
          "name": "stdout",
          "text": [
            "26\n",
            "--------------------------------------------------z--------------------------------------------------\n",
            "------------------------------------------------z-y-z------------------------------------------------\n",
            "----------------------------------------------z-y-x-y-z----------------------------------------------\n",
            "--------------------------------------------z-y-x-w-x-y-z--------------------------------------------\n",
            "------------------------------------------z-y-x-w-v-w-x-y-z------------------------------------------\n",
            "----------------------------------------z-y-x-w-v-u-v-w-x-y-z----------------------------------------\n",
            "--------------------------------------z-y-x-w-v-u-t-u-v-w-x-y-z--------------------------------------\n",
            "------------------------------------z-y-x-w-v-u-t-s-t-u-v-w-x-y-z------------------------------------\n",
            "----------------------------------z-y-x-w-v-u-t-s-r-s-t-u-v-w-x-y-z----------------------------------\n",
            "--------------------------------z-y-x-w-v-u-t-s-r-q-r-s-t-u-v-w-x-y-z--------------------------------\n",
            "------------------------------z-y-x-w-v-u-t-s-r-q-p-q-r-s-t-u-v-w-x-y-z------------------------------\n",
            "----------------------------z-y-x-w-v-u-t-s-r-q-p-o-p-q-r-s-t-u-v-w-x-y-z----------------------------\n",
            "--------------------------z-y-x-w-v-u-t-s-r-q-p-o-n-o-p-q-r-s-t-u-v-w-x-y-z--------------------------\n",
            "------------------------z-y-x-w-v-u-t-s-r-q-p-o-n-m-n-o-p-q-r-s-t-u-v-w-x-y-z------------------------\n",
            "----------------------z-y-x-w-v-u-t-s-r-q-p-o-n-m-l-m-n-o-p-q-r-s-t-u-v-w-x-y-z----------------------\n",
            "--------------------z-y-x-w-v-u-t-s-r-q-p-o-n-m-l-k-l-m-n-o-p-q-r-s-t-u-v-w-x-y-z--------------------\n",
            "------------------z-y-x-w-v-u-t-s-r-q-p-o-n-m-l-k-j-k-l-m-n-o-p-q-r-s-t-u-v-w-x-y-z------------------\n",
            "----------------z-y-x-w-v-u-t-s-r-q-p-o-n-m-l-k-j-i-j-k-l-m-n-o-p-q-r-s-t-u-v-w-x-y-z----------------\n",
            "--------------z-y-x-w-v-u-t-s-r-q-p-o-n-m-l-k-j-i-h-i-j-k-l-m-n-o-p-q-r-s-t-u-v-w-x-y-z--------------\n",
            "------------z-y-x-w-v-u-t-s-r-q-p-o-n-m-l-k-j-i-h-g-h-i-j-k-l-m-n-o-p-q-r-s-t-u-v-w-x-y-z------------\n",
            "----------z-y-x-w-v-u-t-s-r-q-p-o-n-m-l-k-j-i-h-g-f-g-h-i-j-k-l-m-n-o-p-q-r-s-t-u-v-w-x-y-z----------\n",
            "--------z-y-x-w-v-u-t-s-r-q-p-o-n-m-l-k-j-i-h-g-f-e-f-g-h-i-j-k-l-m-n-o-p-q-r-s-t-u-v-w-x-y-z--------\n",
            "------z-y-x-w-v-u-t-s-r-q-p-o-n-m-l-k-j-i-h-g-f-e-d-e-f-g-h-i-j-k-l-m-n-o-p-q-r-s-t-u-v-w-x-y-z------\n",
            "----z-y-x-w-v-u-t-s-r-q-p-o-n-m-l-k-j-i-h-g-f-e-d-c-d-e-f-g-h-i-j-k-l-m-n-o-p-q-r-s-t-u-v-w-x-y-z----\n",
            "--z-y-x-w-v-u-t-s-r-q-p-o-n-m-l-k-j-i-h-g-f-e-d-c-b-c-d-e-f-g-h-i-j-k-l-m-n-o-p-q-r-s-t-u-v-w-x-y-z--\n",
            "z-y-x-w-v-u-t-s-r-q-p-o-n-m-l-k-j-i-h-g-f-e-d-c-b-a-b-c-d-e-f-g-h-i-j-k-l-m-n-o-p-q-r-s-t-u-v-w-x-y-z\n",
            "--z-y-x-w-v-u-t-s-r-q-p-o-n-m-l-k-j-i-h-g-f-e-d-c-b-c-d-e-f-g-h-i-j-k-l-m-n-o-p-q-r-s-t-u-v-w-x-y-z--\n",
            "----z-y-x-w-v-u-t-s-r-q-p-o-n-m-l-k-j-i-h-g-f-e-d-c-d-e-f-g-h-i-j-k-l-m-n-o-p-q-r-s-t-u-v-w-x-y-z----\n",
            "------z-y-x-w-v-u-t-s-r-q-p-o-n-m-l-k-j-i-h-g-f-e-d-e-f-g-h-i-j-k-l-m-n-o-p-q-r-s-t-u-v-w-x-y-z------\n",
            "--------z-y-x-w-v-u-t-s-r-q-p-o-n-m-l-k-j-i-h-g-f-e-f-g-h-i-j-k-l-m-n-o-p-q-r-s-t-u-v-w-x-y-z--------\n",
            "----------z-y-x-w-v-u-t-s-r-q-p-o-n-m-l-k-j-i-h-g-f-g-h-i-j-k-l-m-n-o-p-q-r-s-t-u-v-w-x-y-z----------\n",
            "------------z-y-x-w-v-u-t-s-r-q-p-o-n-m-l-k-j-i-h-g-h-i-j-k-l-m-n-o-p-q-r-s-t-u-v-w-x-y-z------------\n",
            "--------------z-y-x-w-v-u-t-s-r-q-p-o-n-m-l-k-j-i-h-i-j-k-l-m-n-o-p-q-r-s-t-u-v-w-x-y-z--------------\n",
            "----------------z-y-x-w-v-u-t-s-r-q-p-o-n-m-l-k-j-i-j-k-l-m-n-o-p-q-r-s-t-u-v-w-x-y-z----------------\n",
            "------------------z-y-x-w-v-u-t-s-r-q-p-o-n-m-l-k-j-k-l-m-n-o-p-q-r-s-t-u-v-w-x-y-z------------------\n",
            "--------------------z-y-x-w-v-u-t-s-r-q-p-o-n-m-l-k-l-m-n-o-p-q-r-s-t-u-v-w-x-y-z--------------------\n",
            "----------------------z-y-x-w-v-u-t-s-r-q-p-o-n-m-l-m-n-o-p-q-r-s-t-u-v-w-x-y-z----------------------\n",
            "------------------------z-y-x-w-v-u-t-s-r-q-p-o-n-m-n-o-p-q-r-s-t-u-v-w-x-y-z------------------------\n",
            "--------------------------z-y-x-w-v-u-t-s-r-q-p-o-n-o-p-q-r-s-t-u-v-w-x-y-z--------------------------\n",
            "----------------------------z-y-x-w-v-u-t-s-r-q-p-o-p-q-r-s-t-u-v-w-x-y-z----------------------------\n",
            "------------------------------z-y-x-w-v-u-t-s-r-q-p-q-r-s-t-u-v-w-x-y-z------------------------------\n",
            "--------------------------------z-y-x-w-v-u-t-s-r-q-r-s-t-u-v-w-x-y-z--------------------------------\n",
            "----------------------------------z-y-x-w-v-u-t-s-r-s-t-u-v-w-x-y-z----------------------------------\n",
            "------------------------------------z-y-x-w-v-u-t-s-t-u-v-w-x-y-z------------------------------------\n",
            "--------------------------------------z-y-x-w-v-u-t-u-v-w-x-y-z--------------------------------------\n",
            "----------------------------------------z-y-x-w-v-u-v-w-x-y-z----------------------------------------\n",
            "------------------------------------------z-y-x-w-v-w-x-y-z------------------------------------------\n",
            "--------------------------------------------z-y-x-w-x-y-z--------------------------------------------\n",
            "----------------------------------------------z-y-x-y-z----------------------------------------------\n",
            "------------------------------------------------z-y-z------------------------------------------------\n",
            "--------------------------------------------------z--------------------------------------------------\n"
          ]
        }
      ]
    },
    {
      "cell_type": "code",
      "source": [
        "# 11th problem\n",
        "\n",
        "def capitalize_name(full_name):\n",
        "    # Split the full name into first and last name\n",
        "    name_parts = full_name.split()\n",
        "    \n",
        "    # Capitalize the first letter of each name part\n",
        "    capitalized_parts = [part.capitalize() for part in name_parts]\n",
        "    \n",
        "    # Join the capitalized name parts and return the result\n",
        "    capitalized_name = \" \".join(capitalized_parts)\n",
        "    return capitalized_name\n",
        "\n",
        "full_name = \"alison heck\"\n",
        "capitalized_name = capitalize_name(full_name)\n",
        "print(\"Capitalized name:\", capitalized_name)\n",
        "\n"
      ],
      "metadata": {
        "id": "UYBwtS6F6p_y",
        "colab": {
          "base_uri": "https://localhost:8080/"
        },
        "outputId": "00151e6b-1d0b-4545-90d0-f0b7270d8f94"
      },
      "execution_count": 17,
      "outputs": [
        {
          "output_type": "stream",
          "name": "stdout",
          "text": [
            "Capitalized name: Alison Heck\n"
          ]
        }
      ]
    },
    {
      "cell_type": "code",
      "source": [
        "# 12th problem\n",
        "\n",
        "def minion_game(string):\n",
        "    s=len(string)\n",
        "    vowel = 0\n",
        "    consonant = 0\n",
        "     \n",
        "    for i in range(s):\n",
        "        if string[i] in 'AEIOU':\n",
        "           vowel+=(s-i)\n",
        "        else:\n",
        "           consonant+=(s-i)\n",
        "                \n",
        "    if vowel < consonant:\n",
        "        print('Stuart ' + str(consonant))\n",
        "    elif vowel > consonant:\n",
        "        print('Kevin ' + str(vowel))\n",
        "    else:\n",
        "        print('Draw')\n",
        "    \n",
        "\n",
        "\n",
        "if __name__ == '__main__':\n",
        "    s = input()\n",
        "    minion_game(s)"
      ],
      "metadata": {
        "id": "cs-otl-66qLG",
        "colab": {
          "base_uri": "https://localhost:8080/"
        },
        "outputId": "91c29db1-25e0-406b-b993-cbc204745bc2"
      },
      "execution_count": 18,
      "outputs": [
        {
          "output_type": "stream",
          "name": "stdout",
          "text": [
            "banana\n",
            "Stuart 21\n"
          ]
        }
      ]
    },
    {
      "cell_type": "code",
      "source": [
        "# 13th problem \n",
        "\n",
        "def merge_the_tools(string, k):\n",
        "    for part in zip(*[iter(string)] * k):\n",
        "        d = dict()\n",
        "        print(''.join([ d.setdefault(c, c) for c in part if c not in d ]))\n",
        "\n",
        "if __name__ == '__main__':\n",
        "    string, k = input(), int(input())\n",
        "    merge_the_tools(string, k)"
      ],
      "metadata": {
        "id": "BKzujjIy6qZK",
        "colab": {
          "base_uri": "https://localhost:8080/"
        },
        "outputId": "a171ed29-4a75-45e0-e317-20d4c2090533"
      },
      "execution_count": 19,
      "outputs": [
        {
          "output_type": "stream",
          "name": "stdout",
          "text": [
            "aabcaaada\n",
            "3\n",
            "ab\n",
            "ca\n",
            "ad\n"
          ]
        }
      ]
    }
  ]
}